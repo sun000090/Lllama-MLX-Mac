{
 "cells": [
  {
   "cell_type": "code",
   "execution_count": 1,
   "metadata": {},
   "outputs": [
    {
     "name": "stdout",
     "output_type": "stream",
     "text": [
      "Requirement already satisfied: mlx_lm in /Library/Frameworks/Python.framework/Versions/3.10/lib/python3.10/site-packages (from -r requirements.txt (line 1)) (0.20.6)\n",
      "Requirement already satisfied: datasets in /Library/Frameworks/Python.framework/Versions/3.10/lib/python3.10/site-packages (from -r requirements.txt (line 2)) (3.2.0)\n",
      "Requirement already satisfied: mlx>=0.19.2 in /Library/Frameworks/Python.framework/Versions/3.10/lib/python3.10/site-packages (from mlx_lm->-r requirements.txt (line 1)) (0.22.0)\n",
      "Requirement already satisfied: numpy in /Library/Frameworks/Python.framework/Versions/3.10/lib/python3.10/site-packages (from mlx_lm->-r requirements.txt (line 1)) (2.2.2)\n",
      "Requirement already satisfied: transformers>=4.39.3 in /Library/Frameworks/Python.framework/Versions/3.10/lib/python3.10/site-packages (from transformers[sentencepiece]>=4.39.3->mlx_lm->-r requirements.txt (line 1)) (4.48.2)\n",
      "Requirement already satisfied: protobuf in /Library/Frameworks/Python.framework/Versions/3.10/lib/python3.10/site-packages (from mlx_lm->-r requirements.txt (line 1)) (5.29.3)\n",
      "Requirement already satisfied: pyyaml in /Library/Frameworks/Python.framework/Versions/3.10/lib/python3.10/site-packages (from mlx_lm->-r requirements.txt (line 1)) (6.0.2)\n",
      "Requirement already satisfied: jinja2 in /Library/Frameworks/Python.framework/Versions/3.10/lib/python3.10/site-packages (from mlx_lm->-r requirements.txt (line 1)) (3.1.4)\n",
      "Requirement already satisfied: filelock in /Library/Frameworks/Python.framework/Versions/3.10/lib/python3.10/site-packages (from datasets->-r requirements.txt (line 2)) (3.17.0)\n",
      "Requirement already satisfied: pyarrow>=15.0.0 in /Library/Frameworks/Python.framework/Versions/3.10/lib/python3.10/site-packages (from datasets->-r requirements.txt (line 2)) (19.0.0)\n",
      "Requirement already satisfied: dill<0.3.9,>=0.3.0 in /Library/Frameworks/Python.framework/Versions/3.10/lib/python3.10/site-packages (from datasets->-r requirements.txt (line 2)) (0.3.8)\n",
      "Requirement already satisfied: pandas in /Library/Frameworks/Python.framework/Versions/3.10/lib/python3.10/site-packages (from datasets->-r requirements.txt (line 2)) (2.2.3)\n",
      "Requirement already satisfied: requests>=2.32.2 in /Library/Frameworks/Python.framework/Versions/3.10/lib/python3.10/site-packages (from datasets->-r requirements.txt (line 2)) (2.32.3)\n",
      "Requirement already satisfied: tqdm>=4.66.3 in /Library/Frameworks/Python.framework/Versions/3.10/lib/python3.10/site-packages (from datasets->-r requirements.txt (line 2)) (4.67.1)\n",
      "Requirement already satisfied: xxhash in /Library/Frameworks/Python.framework/Versions/3.10/lib/python3.10/site-packages (from datasets->-r requirements.txt (line 2)) (3.5.0)\n",
      "Requirement already satisfied: multiprocess<0.70.17 in /Library/Frameworks/Python.framework/Versions/3.10/lib/python3.10/site-packages (from datasets->-r requirements.txt (line 2)) (0.70.16)\n",
      "Requirement already satisfied: fsspec<=2024.9.0,>=2023.1.0 in /Library/Frameworks/Python.framework/Versions/3.10/lib/python3.10/site-packages (from fsspec[http]<=2024.9.0,>=2023.1.0->datasets->-r requirements.txt (line 2)) (2024.9.0)\n",
      "Requirement already satisfied: aiohttp in /Library/Frameworks/Python.framework/Versions/3.10/lib/python3.10/site-packages (from datasets->-r requirements.txt (line 2)) (3.11.11)\n",
      "Requirement already satisfied: huggingface-hub>=0.23.0 in /Library/Frameworks/Python.framework/Versions/3.10/lib/python3.10/site-packages (from datasets->-r requirements.txt (line 2)) (0.28.1)\n",
      "Requirement already satisfied: packaging in /Library/Frameworks/Python.framework/Versions/3.10/lib/python3.10/site-packages (from datasets->-r requirements.txt (line 2)) (24.1)\n",
      "Requirement already satisfied: aiohappyeyeballs>=2.3.0 in /Library/Frameworks/Python.framework/Versions/3.10/lib/python3.10/site-packages (from aiohttp->datasets->-r requirements.txt (line 2)) (2.4.4)\n",
      "Requirement already satisfied: aiosignal>=1.1.2 in /Library/Frameworks/Python.framework/Versions/3.10/lib/python3.10/site-packages (from aiohttp->datasets->-r requirements.txt (line 2)) (1.3.2)\n",
      "Requirement already satisfied: async-timeout<6.0,>=4.0 in /Library/Frameworks/Python.framework/Versions/3.10/lib/python3.10/site-packages (from aiohttp->datasets->-r requirements.txt (line 2)) (5.0.1)\n",
      "Requirement already satisfied: attrs>=17.3.0 in /Library/Frameworks/Python.framework/Versions/3.10/lib/python3.10/site-packages (from aiohttp->datasets->-r requirements.txt (line 2)) (24.2.0)\n",
      "Requirement already satisfied: frozenlist>=1.1.1 in /Library/Frameworks/Python.framework/Versions/3.10/lib/python3.10/site-packages (from aiohttp->datasets->-r requirements.txt (line 2)) (1.5.0)\n",
      "Requirement already satisfied: multidict<7.0,>=4.5 in /Library/Frameworks/Python.framework/Versions/3.10/lib/python3.10/site-packages (from aiohttp->datasets->-r requirements.txt (line 2)) (6.1.0)\n",
      "Requirement already satisfied: propcache>=0.2.0 in /Library/Frameworks/Python.framework/Versions/3.10/lib/python3.10/site-packages (from aiohttp->datasets->-r requirements.txt (line 2)) (0.2.1)\n",
      "Requirement already satisfied: yarl<2.0,>=1.17.0 in /Library/Frameworks/Python.framework/Versions/3.10/lib/python3.10/site-packages (from aiohttp->datasets->-r requirements.txt (line 2)) (1.18.3)\n",
      "Requirement already satisfied: typing-extensions>=3.7.4.3 in /Library/Frameworks/Python.framework/Versions/3.10/lib/python3.10/site-packages (from huggingface-hub>=0.23.0->datasets->-r requirements.txt (line 2)) (4.12.2)\n",
      "Requirement already satisfied: charset-normalizer<4,>=2 in /Library/Frameworks/Python.framework/Versions/3.10/lib/python3.10/site-packages (from requests>=2.32.2->datasets->-r requirements.txt (line 2)) (3.3.2)\n",
      "Requirement already satisfied: idna<4,>=2.5 in /Library/Frameworks/Python.framework/Versions/3.10/lib/python3.10/site-packages (from requests>=2.32.2->datasets->-r requirements.txt (line 2)) (3.10)\n",
      "Requirement already satisfied: urllib3<3,>=1.21.1 in /Library/Frameworks/Python.framework/Versions/3.10/lib/python3.10/site-packages (from requests>=2.32.2->datasets->-r requirements.txt (line 2)) (2.2.3)\n",
      "Requirement already satisfied: certifi>=2017.4.17 in /Library/Frameworks/Python.framework/Versions/3.10/lib/python3.10/site-packages (from requests>=2.32.2->datasets->-r requirements.txt (line 2)) (2024.8.30)\n",
      "Requirement already satisfied: regex!=2019.12.17 in /Library/Frameworks/Python.framework/Versions/3.10/lib/python3.10/site-packages (from transformers>=4.39.3->transformers[sentencepiece]>=4.39.3->mlx_lm->-r requirements.txt (line 1)) (2024.11.6)\n",
      "Requirement already satisfied: tokenizers<0.22,>=0.21 in /Library/Frameworks/Python.framework/Versions/3.10/lib/python3.10/site-packages (from transformers>=4.39.3->transformers[sentencepiece]>=4.39.3->mlx_lm->-r requirements.txt (line 1)) (0.21.0)\n",
      "Requirement already satisfied: safetensors>=0.4.1 in /Library/Frameworks/Python.framework/Versions/3.10/lib/python3.10/site-packages (from transformers>=4.39.3->transformers[sentencepiece]>=4.39.3->mlx_lm->-r requirements.txt (line 1)) (0.5.2)\n",
      "Requirement already satisfied: sentencepiece!=0.1.92,>=0.1.91 in /Library/Frameworks/Python.framework/Versions/3.10/lib/python3.10/site-packages (from transformers[sentencepiece]>=4.39.3->mlx_lm->-r requirements.txt (line 1)) (0.2.0)\n",
      "Requirement already satisfied: MarkupSafe>=2.0 in /Library/Frameworks/Python.framework/Versions/3.10/lib/python3.10/site-packages (from jinja2->mlx_lm->-r requirements.txt (line 1)) (2.1.5)\n",
      "Requirement already satisfied: python-dateutil>=2.8.2 in /Library/Frameworks/Python.framework/Versions/3.10/lib/python3.10/site-packages (from pandas->datasets->-r requirements.txt (line 2)) (2.9.0.post0)\n",
      "Requirement already satisfied: pytz>=2020.1 in /Library/Frameworks/Python.framework/Versions/3.10/lib/python3.10/site-packages (from pandas->datasets->-r requirements.txt (line 2)) (2025.1)\n",
      "Requirement already satisfied: tzdata>=2022.7 in /Library/Frameworks/Python.framework/Versions/3.10/lib/python3.10/site-packages (from pandas->datasets->-r requirements.txt (line 2)) (2025.1)\n",
      "Requirement already satisfied: six>=1.5 in /Library/Frameworks/Python.framework/Versions/3.10/lib/python3.10/site-packages (from python-dateutil>=2.8.2->pandas->datasets->-r requirements.txt (line 2)) (1.16.0)\n",
      "\n",
      "\u001b[1m[\u001b[0m\u001b[34;49mnotice\u001b[0m\u001b[1;39;49m]\u001b[0m\u001b[39;49m A new release of pip is available: \u001b[0m\u001b[31;49m24.2\u001b[0m\u001b[39;49m -> \u001b[0m\u001b[32;49m25.0\u001b[0m\n",
      "\u001b[1m[\u001b[0m\u001b[34;49mnotice\u001b[0m\u001b[1;39;49m]\u001b[0m\u001b[39;49m To update, run: \u001b[0m\u001b[32;49mpip install --upgrade pip\u001b[0m\n",
      "Note: you may need to restart the kernel to use updated packages.\n"
     ]
    }
   ],
   "source": [
    "%pip install -r requirements.txt"
   ]
  },
  {
   "cell_type": "code",
   "execution_count": 2,
   "metadata": {},
   "outputs": [],
   "source": [
    "from dataset import csv_creator\n",
    "import glob\n",
    "from logger import Logger\n",
    "from dataset import Dataset\n",
    "from train_cpu_struct import TrainModel"
   ]
  },
  {
   "cell_type": "code",
   "execution_count": 3,
   "metadata": {},
   "outputs": [],
   "source": [
    "### Read all data from location\n",
    "loc1 = 'Training_Context/*.csv'\n",
    "loc2 = 'Training_Answer/*.txt'\n",
    "training_data = csv_creator.data_creator(loc1=loc1,loc2=loc2)"
   ]
  },
  {
   "cell_type": "code",
   "execution_count": 4,
   "metadata": {},
   "outputs": [],
   "source": [
    "### Preprocess dataset\n",
    "train_set = TrainModel.preprocess(training_data['train'])\n",
    "test_set = TrainModel.preprocess(training_data['test'])"
   ]
  },
  {
   "cell_type": "code",
   "execution_count": 11,
   "metadata": {},
   "outputs": [
    {
     "data": {
      "application/vnd.jupyter.widget-view+json": {
       "model_id": "d2ddeb17fe1a4e8c9c3873f5089689a5",
       "version_major": 2,
       "version_minor": 0
      },
      "text/plain": [
       "Fetching 9 files:   0%|          | 0/9 [00:00<?, ?it/s]"
      ]
     },
     "metadata": {},
     "output_type": "display_data"
    },
    {
     "name": "stdout",
     "output_type": "stream",
     "text": [
      "Starting training..., iters: 24\n",
      "[WARNING] Some sequences are longer than 1024 tokens. The longest sentence 37575 will be truncated to 1024. Consider pre-splitting your data to save memory.\n",
      "[WARNING] Some sequences are longer than 1024 tokens. The longest sentence 9315 will be truncated to 1024. Consider pre-splitting your data to save memory.\n",
      "[WARNING] Some sequences are longer than 1024 tokens. The longest sentence 9916 will be truncated to 1024. Consider pre-splitting your data to save memory.\n",
      "[WARNING] Some sequences are longer than 1024 tokens. The longest sentence 35922 will be truncated to 1024. Consider pre-splitting your data to save memory.\n",
      "Iter 1: Val loss 0.893, Val took 136.007s\n",
      "[WARNING] Some sequences are longer than 1024 tokens. The longest sentence 44327 will be truncated to 1024. Consider pre-splitting your data to save memory.\n",
      "[WARNING] Some sequences are longer than 1024 tokens. The longest sentence 37640 will be truncated to 1024. Consider pre-splitting your data to save memory.\n",
      "[WARNING] Some sequences are longer than 1024 tokens. The longest sentence 8727 will be truncated to 1024. Consider pre-splitting your data to save memory.\n",
      "[WARNING] Some sequences are longer than 1024 tokens. The longest sentence 7148 will be truncated to 1024. Consider pre-splitting your data to save memory.\n",
      "[WARNING] Some sequences are longer than 1024 tokens. The longest sentence 43047 will be truncated to 1024. Consider pre-splitting your data to save memory.\n",
      "[WARNING] Some sequences are longer than 1024 tokens. The longest sentence 9903 will be truncated to 1024. Consider pre-splitting your data to save memory.\n",
      "[WARNING] Some sequences are longer than 1024 tokens. The longest sentence 11102 will be truncated to 1024. Consider pre-splitting your data to save memory.\n",
      "[WARNING] Some sequences are longer than 1024 tokens. The longest sentence 17664 will be truncated to 1024. Consider pre-splitting your data to save memory.\n",
      "[WARNING] Some sequences are longer than 1024 tokens. The longest sentence 5983 will be truncated to 1024. Consider pre-splitting your data to save memory.\n",
      "Iter 10: Train loss 8.603, Learning Rate 1.000e-03, It/sec 0.006, Tokens/sec 12.020, Trained Tokens 20460, Peak mem 24.220 GB\n",
      "[WARNING] Some sequences are longer than 1024 tokens. The longest sentence 11738 will be truncated to 1024. Consider pre-splitting your data to save memory.\n",
      "[WARNING] Some sequences are longer than 1024 tokens. The longest sentence 11314 will be truncated to 1024. Consider pre-splitting your data to save memory.\n",
      "[WARNING] Some sequences are longer than 1024 tokens. The longest sentence 37574 will be truncated to 1024. Consider pre-splitting your data to save memory.\n",
      "[WARNING] Some sequences are longer than 1024 tokens. The longest sentence 6551 will be truncated to 1024. Consider pre-splitting your data to save memory.\n",
      "[WARNING] Some sequences are longer than 1024 tokens. The longest sentence 40811 will be truncated to 1024. Consider pre-splitting your data to save memory.\n",
      "[WARNING] Some sequences are longer than 1024 tokens. The longest sentence 9367 will be truncated to 1024. Consider pre-splitting your data to save memory.\n",
      "[WARNING] Some sequences are longer than 1024 tokens. The longest sentence 33172 will be truncated to 1024. Consider pre-splitting your data to save memory.\n",
      "[WARNING] Some sequences are longer than 1024 tokens. The longest sentence 11829 will be truncated to 1024. Consider pre-splitting your data to save memory.\n",
      "[WARNING] Some sequences are longer than 1024 tokens. The longest sentence 19888 will be truncated to 1024. Consider pre-splitting your data to save memory.\n",
      "[WARNING] Some sequences are longer than 1024 tokens. The longest sentence 9849 will be truncated to 1024. Consider pre-splitting your data to save memory.\n",
      "Iter 20: Train loss 5.175, Learning Rate 1.000e-03, It/sec 0.006, Tokens/sec 12.181, Trained Tokens 40920, Peak mem 24.220 GB\n",
      "[WARNING] Some sequences are longer than 1024 tokens. The longest sentence 39787 will be truncated to 1024. Consider pre-splitting your data to save memory.\n",
      "[WARNING] Some sequences are longer than 1024 tokens. The longest sentence 36495 will be truncated to 1024. Consider pre-splitting your data to save memory.\n",
      "[WARNING] Some sequences are longer than 1024 tokens. The longest sentence 2699 will be truncated to 1024. Consider pre-splitting your data to save memory.\n",
      "[WARNING] Some sequences are longer than 1024 tokens. The longest sentence 9829 will be truncated to 1024. Consider pre-splitting your data to save memory.\n",
      "[WARNING] Some sequences are longer than 1024 tokens. The longest sentence 35922 will be truncated to 1024. Consider pre-splitting your data to save memory.\n",
      "[WARNING] Some sequences are longer than 1024 tokens. The longest sentence 9916 will be truncated to 1024. Consider pre-splitting your data to save memory.\n",
      "[WARNING] Some sequences are longer than 1024 tokens. The longest sentence 9315 will be truncated to 1024. Consider pre-splitting your data to save memory.\n",
      "Iter 24: Val loss 3.903, Val took 108.464s\n",
      "Iter 24: Train loss 4.167, Learning Rate 1.000e-03, It/sec 0.074, Tokens/sec 60.729, Trained Tokens 49104, Peak mem 24.220 GB\n",
      "Saved final weights to adapters/adapters.safetensors.\n"
     ]
    }
   ],
   "source": [
    "### Initialize and train model\n",
    "model_name1 = 'unsloth/Llama-3.2-3B-Instruct' #Llama\n",
    "model_name2 = 'unsloth/DeepSeek-R1-Distill-Llama-8B' #Deepseek\n",
    "trainingSave = TrainModel.train_model(model_name_=model_name1, dataset1 = train_set,\n",
    "                                           dataset2 = test_set, seq_length=1024)"
   ]
  },
  {
   "cell_type": "code",
   "execution_count": 1,
   "metadata": {},
   "outputs": [],
   "source": [
    "import glob\n",
    "from logger import Logger\n",
    "from mlx_lm import load, generate\n",
    "from dataset import csv_creator\n",
    "\n",
    "### Initialize model for inference\n",
    "model_name1 = 'unsloth/Llama-3.2-3B-Instruct' #Llama\n",
    "model_name2 = 'unsloth/DeepSeek-R1-Distill-Llama-8B' #Deepseek\n",
    "adapters = './adapters'"
   ]
  },
  {
   "cell_type": "code",
   "execution_count": 2,
   "metadata": {},
   "outputs": [
    {
     "name": "stdout",
     "output_type": "stream",
     "text": [
      "adapter_config.json  adapters.safetensors\n"
     ]
    }
   ],
   "source": [
    "!ls adapters/"
   ]
  },
  {
   "cell_type": "code",
   "execution_count": 4,
   "metadata": {},
   "outputs": [
    {
     "name": "stdout",
     "output_type": "stream",
     "text": [
      "Loading pretrained model\n",
      "Fetching 9 files: 100%|███████████████████████| 9/9 [00:00<00:00, 271573.64it/s]\n"
     ]
    }
   ],
   "source": [
    "!mlx_lm.fuse --model {model_name1}"
   ]
  },
  {
   "cell_type": "code",
   "execution_count": 6,
   "metadata": {},
   "outputs": [
    {
     "name": "stdout",
     "output_type": "stream",
     "text": [
      "[INFO] Loading\n",
      "[INFO] Quantizing\n",
      "[INFO] Quantized model with 4.501 bits per weight.\n"
     ]
    }
   ],
   "source": [
    "!mlx_lm.convert --hf-path {'fused_model'} --mlx-path {'fused_model_4bit'} -q"
   ]
  },
  {
   "cell_type": "code",
   "execution_count": 4,
   "metadata": {},
   "outputs": [
    {
     "name": "stdout",
     "output_type": "stream",
     "text": [
      "Traceback (most recent call last):\n",
      "  File \"/Library/Frameworks/Python.framework/Versions/3.10/bin/mlx_lm.convert\", line 8, in <module>\n",
      "    sys.exit(main())\n",
      "  File \"/Library/Frameworks/Python.framework/Versions/3.10/lib/python3.10/site-packages/mlx_lm/convert.py\", line 58, in main\n",
      "    convert(**vars(args))\n",
      "  File \"/Library/Frameworks/Python.framework/Versions/3.10/lib/python3.10/site-packages/mlx_lm/utils.py\", line 828, in convert\n",
      "    raise ValueError(\n",
      "ValueError: Cannot save to the path unsloth/Llama-3.2-3B-Instruct as it already exists. Please delete the file/directory or specify a new path to save to.\n"
     ]
    }
   ],
   "source": [
    "!mlx_lm.convert --hf-path {model_name1} --mlx-path {model_name1} -q"
   ]
  },
  {
   "cell_type": "code",
   "execution_count": 5,
   "metadata": {},
   "outputs": [],
   "source": [
    "### Load file\n",
    "location = input('Enter file location: ')\n",
    "files = csv_creator.read_table(location)\n",
    "prompt = f'Analyze the company from investor prespective. Financial data {files}'"
   ]
  },
  {
   "cell_type": "code",
   "execution_count": 8,
   "metadata": {},
   "outputs": [
    {
     "name": "stdout",
     "output_type": "stream",
     "text": [
      "==========\n",
      "Prompt: Analyze the company from investor prespective. Financial data Financial Ratios for Gold Apr 23, 2001-10, 2006-10, 2007-10, 2008-10, 2009-10, 2010-10, 2011-10, 2012-10, 2013-10, 2014-10, 2015-10, 2016-10, 2017-10, 2018-10, 2019-10, 2020-10, 2021-10, 2022-10, 2023-10, Revenue USD Mil, 0.0, 0.0, 5420.0, 5774.0, 4481.0, 5444.0, 6615.0, 6858.0, 3894.0, 4048.0, 4038.0, 4202.0, 4472.0, 4914.0, 5163.0, 5339.0, 6319.0, 6848.0, 6833.0, Gross Margin %, 0.0, 0.0, 54.78, 55.35, 51.15, 53.82, 53.35, 52.55, 48.97, 48.81, 50.54, 52.28, 53.64, 54.54, 54.33, 53.14, 53.92, 54.35, 50.71, Operating Income USD Mil, 0.0, 0.0, 584.0, 795.0, 47.0, 566.0, 1071.0, 1119.0, 386.0, 419.0, 522.0, 615.0, 807.0, 904.0, 941.0, 846.0, 1347.0, 1618.0, 1350.0, Operating Margin %, 0.0, 0.0, 10.77, 13.77, 1.05, 10.4, 16.19, 16.32, 9.91, 10.35, 12.93, 14.64, 18.05, 18.4, 18.23, 15.85, 21.32, 23.63, 19.76, Net Income USD Mil, 0.0, 0.0, 0.0, 0.0, 0.0, 0.0, 0.0, 0.0, 0.0, 0.0, 0.0, 0.0, 0.0, 0.0, 0.0, 719.0, 1210.0, 1254.0, 1240.0, Earnings Per Share USD, 0.0, 0.0, 1.57, 1.87, -0.09, 1.94, 2.85, 3.27, 2.13, 1.62, 1.2, 1.4, 2.1, 0.97, 3.37, 2.3, 3.94, 4.18, 4.19, Dividends USD, 0.0, 0.0, 0.0, 0.0, 0.0, 0.0, 0.0, 0.3, 0.46, 0.53, 0.4, 0.46, 0.53, 0.6, 0.66, 0.72, 0.78, 0.84, 0.9, Payout Ratio % *, 0.0, 0.0, 0.0, 0.0, 0.0, 0.0, 0.0, 9.0, 22.0, 33.0, 33.0, 33.0, 25.0, 62.0, 19.0, 31.0, 20.0, 20.0, 21.0, Shares Mil, 0.0, 0.0, 394.0, 363.0, 348.83, 347.6, 348.13, 347.93, 331.81, 335.32, 332.17, 321.75, 323.02, 318.53, 309.0, 306.0, 302.0, 295.26, 292.12, Book Value Per Share * USD, 0.0, 0.0, 8.21, 7.05, 7.18, 9.29, 12.37, 14.89, 15.93, 15.81, 12.54, 13.19, 14.96, 14.42, 15.37, 15.92, 17.84, 17.97, 20.01, Operating Cash Flow USD Mil, 0.0, 0.0, 969.0, 756.0, 408.0, 718.0, 1260.0, 1228.0, 1152.0, 731.0, 512.0, 793.0, 889.0, 1087.0, 1021.0, 921.0, 1485.0, 1312.0, 1772.0, Cap Spending USD Mil, 0.0, 0.0, -154.0, -154.0, -128.0, -121.0, -188.0, -194.0, -195.0, -205.0, -98.0, -139.0, -176.0, -177.0, -155.0, -119.0, -188.0, -291.0, -298.0, Free Cash Flow USD Mil, 0.0, 0.0, 815.0, 602.0, 280.0, 597.0, 1072.0, 1034.0, 957.0, 526.0, 414.0, 654.0, 713.0, 910.0, 866.0, 802.0, 1297.0, 1021.0, 1474.0, Free Cash Flow Per Share * USD, 0.0, 0.0, 2.07, 1.66, 0.8, 1.72, 3.08, 2.97, 2.88, 1.57, 1.25, 2.03, 2.21, 2.86, 2.8, 2.62, 4.29, 3.46, 5.05, Working Capital USD Mil, 0.0, 0.0, 0.0, 1852.0, 2838.0, 3086.0, 3732.0, 2736.0, 3381.0, 3817.0, 2710.0, 2690.0, 2906.0, 2705.0, 1109.0, 1948.0, 2091.0, 1917.0, 2583.0, -, 0.0, 0.0, 0.0, 0.0, 0.0, 0.0, 0.0, 0.0, 0.0, 0.0, 0.0, 0.0, 0.0, 0.0, 0.0, 0.0, 0.0, 0.0, 0.0, Key Ratios -> Profitability, 0.0, 0.0, 0.0, 0.0, 0.0, 0.0, 0.0, 0.0, 0.0, 0.0, 0.0, 0.0, 0.0, 0.0, 0.0, 0.0, 0.0, 0.0, 0.0, Margins % of Sales, 2001-10, 2006-10, 2007-10, 2008-10, 2009-10, 2010-10, 2011-10, 2012-10, 2013-10, 2014-10, 2015-10, 2016-10, 2017-10, 2018-10, 2019-10, 2020-10, 2021-10, 2022-10, 2023-10, Revenue, 0.0, 0.0, 100.0, 100.0, 100.0, 100.0, 100.0, 100.0, 100.0, 100.0, 100.0, 100.0, 100.0, 100.0, 100.0, 100.0, 100.0, 100.0, 100.0, COGS, 0.0, 0.0, 45.22, 44.65, 48.85, 46.18, 46.65, 47.45, 51.03, 51.19, 49.46, 47.72, 46.36, 45.46, 45.67, 46.86, 46.08, 45.65, 49.29, Gross Margin, 0.0, 0.0, 54.78, 55.35, 51.15, 53.82, 53.35, 52.55, 48.97, 48.81, 50.54, 52.28, 53.64, 54.54, 54.33, 53.14, 53.92, 54.35, 50.71, SG&A, 0.0, 0.0, 31.37, 29.39, 35.77, 32.18, 27.35, 26.49, 30.41, 29.62, 29.45, 29.82, 27.97, 28.27, 28.28, 28.02, 25.62, 23.9, 23.91, R&D, 0.0, 0.0, 12.64, 12.19, 14.33, 11.24, 9.81, 9.74, 8.65, 8.84, 8.17, 7.83, 7.63, 7.88, 7.82, 9.27, 6.98, 6.82, 7.04, Other, 0.0, 0.0, 12.64, 12.19, 14.33, 11.24, 9.81, 9.74, 8.65, 8.84, 8.16, 7.82, 7.62, 7.87, 7.82, 9.27, 6.98, 6.82, 7.04, Operating Margin, 0.0, 0.0, 10.77, 13.77, 1.05, 10.4, 16.19, 16.32, 9.91, 10.35, 12.93, 14.64, 18.05, 18.4, 18.23, 15.85, 21.32, 23.63, 19.76, EBT Margin, 0.0, 0.0, 0.59, 4.24, 2.81, 1.91, 1.6, -0.13, 6.21, 6.3, 2.67, 3.66, 4.43, 14.35, -1.51, 17.23, 22.8, 23.19, 20.99, Net Int Inc & Other, 0.0, 0.0, -10.18, -9.53, 1.76, -8.49, -14.59, -16.45, -3.7, -4.05, -10.26, -10.98, -13.62, -4.05, -19.74, 1.38, 1.48, -0.44, 1.23, -, 0.0, 0.0, 0.0, 0.0, 0.0, 0.0, 0.0, 0.0, 0.0, 0.0, 0.0, 0.0, 0.0, 0.0, 0.0, 0.0, 0.0, 0.0, 0.0, Profitability, 2001-10, 2006-10, 2007-10, 2008-10, 2009-10, 2010-10, 2011-10, 2012-10, 2013-10, 2014-10, 2015-10, 2016-10, 2017-10, 2018-10, 2019-10, 2020-10, 2021-10, 2022-10, 2023-10, Tax Rate %, 0.0, 0.0, 0.0, 49.8, 30.16, 7.69, 18.87, 1222.22, 55.79, 55.69, 38.89, 53.25, 60.1, 89.36, 194.87, 13.37, 10.41, 15.74, 6.9, Net Margin %, 0.0, 0.0, 0.0, 0.0, 0.0, 0.0, 0.0, 0.0, 0.0, 0.0, 0.0, 0.0, 0.0, 0.0, 0.0, 13.47, 19.15, 18.31, 18.15, Asset Turnover (Average), 0.0, 0.0, 0.0, 1.65, 0.61, 0.63, 0.71, 0.7, 0.37, 0.38, 0.44, 0.55, 0.55, 0.58, 0.57, 0.56, 0.62, 0.64, 0.64, Return on Assets %, 0.0, 0.0, 0.0, 0.0, 0.0, 0.0, 0.0, 0.0, 0.0, 0.0, 0.0, 0.0, 0.0, 0.0, 0.0, 7.54, 11.9, 11.81, 11.65, Financial Leverage (Average), 0.0, 0.0, 0.0, 2.74, 3.04, 3.0, 2.1, 2.03, 2.02, 2.04, 1.79, 1.84, 1.74, 1.87, 1.99, 1.98, 1.99, 1.99, 1.84, Return on Equity %, 0.0, 0.0, 0.0, 0.0, 0.0, 0.0, 0.0, 0.0, 0.0, 0.0, 0.0, 0.0, 0.0, 0.0, 0.0, 14.95, 23.58, 23.45, 22.24, Return on Invested Capital %, 0.0, 0.0, 0.0, 0.0, 0.0, 0.0, 0.0, 0.0, 0.0, 0.0, 0.0, 0.0, 0.0, 0.0, 0.0, 10.0, 15.84, 15.56, 14.92, Interest Coverage, 0.0, 0.0, 0.0, 6.46, 0.53, 5.9, 12.45, 11.08, 3.61, 3.71, 7.91, 8.54, 10.22, 12.05, 12.72, 10.85, 16.63, 19.26, 14.21, -, 0.0, 0.0, 0.0, 0.0, 0.0, 0.0, 0.0, 0.0, 0.0, 0.0, 0.0, 0.0, 0.0, 0.0, 0.0, 0.0, 0.0, 0.0, 0.0, Key Ratios -> Growth, 2001-10, 2006-10, 2007-10, 2008-10, 2009-10, 2010-10, 2011-10, 2012-10, 2013-10, 2014-10, 2015-10, 2016-10, 2017-10, 2018-10, 2019-10, 2020-10, 2021-10, 2022-10, 2023-10, Revenue %, 0.0, 0.0, 0.0, 0.0, 0.0, 0.0, 0.0, 0.0, 0.0, 0.0, 0.0, 0.0, 0.0, 0.0, 0.0, 0.0, 0.0, 0.0, 0.0, Year over Year, 0.0, 0.0, 0.0, 6.53, -22.39, 21.49, 21.51, 3.67, -43.22, 3.95, -0.25, 4.06, 6.43, 9.88, 5.07, 3.41, 18.36, 8.37, -0.22, 3-Year Average, 0.0, 0.0, 0.0, 0.0, 0.0, 0.15, 4.64, 15.24, -10.57, -15.1, -16.18, 2.57, 3.38, 6.76, 7.11, 6.08, 8.74, 9.87, 8.57, 5-Year Average, 0.0, 0.0, 0.0, 0.0, 0.0, 0.0, 0.0, 4.82, -7.58, -2.01, -5.8, -8.68, -8.2, 4.76, 4.99, 5.74, 8.5, 8.9, 6.82, 10-Year Average, 0.0, 0.0, 0.0, 0.0, 0.0, 0.0, 0.0, 0.0, 0.0, 0.0, 0.0, 0.0, -1.9, -1.6, 1.43, -0.19, -0.46, -0.01, 5.78, Operating Income %, 0.0, 0.0, 0.0, 0.0, 0.0, 0.0, 0.0, 0.0, 0.0, 0.0, 0.0, 0.0, 0.0, 0.0, 0.0, 0.0, 0.0, 0.0, 0.0, Year over Year, 0.0, 0.0, 0.0, 36.13, -94.09, 1104.26, 89.22, 4.48, -65.5, 8.55, 24.58, 17.82, 31.22, 12.02, 4.09, -10.1, 59.22, 20.12, -16.56, 3-Year Average, 0.0, 0.0, 0.0, 0.0, 0.0, -1.04, 10.44, 187.68, -11.98, -26.86, -22.44, 16.8, 24.42, 20.09, 15.23, 1.59, 14.22, 19.8, 16.86, 5-Year Average, 0.0, 0.0, 0.0, 0.0, 0.0, 0.0, 0.0, 13.89, -13.45, 54.89, -1.61, -10.5, -6.33, 18.55, 17.56, 10.14, 16.98, 14.93, 8.35, 10-Year Average, 0.0, 0.0, 0.0, 0.0, 0.0, 0.0, 0.0, 0.0, 0.0, 0.0, 0.0, 0.0, 3.29, 1.29, 34.94, 4.1, 2.32, 3.76, 13.34, Net Income %, 0.0, 0.0, 0.0, 0.0, 0.0, 0.0, 0.0, 0.0, 0.0, 0.0, 0.0, 0.0, 0.0, 0.0, 0.0, 0.0, 0.0, 0.0, 0.0, Year over Year, 0.0, 0.0, 0.0, 0.0, 0.0, 0.0, 0.0, 0.0, 0.0, 0.0, 0.0, 0.0, 0.0, 0.0, 0.0, 0.0, 68.29, 3.64, -1.12, 3-Year Average, 0.0, 0.0, 0.0, 0.0, 0.0, 0.0, 0.0, 0.0, 0.0, 0.0, 0.0, 0.0, 0.0, 0.0, 0.0, 0.0, 0.0, 0.0, 19.92, 5-Year Average, 0.0, 0.0, 0.0, 0.0, 0.0, 0.0, 0.0, 0.0, 0.0, 0.0, 0.0, 0.0, 0.0, 0.0, 0.0, 0.0, 0.0, 0.0, 0.0, 10-Year Average, 0.0, 0.0, 0.0, 0.0, 0.0, 0.0, 0.0, 0.0, 0.0, 0.0, 0.0, 0.0, 0.0, 0.0, 0.0, 0.0, 0.0, 0.0, 0.0, EPS %, 0.0, 0.0, 0.0, 0.0, 0.0, 0.0, 0.0, 0.0, 0.0, 0.0, 0.0, 0.0, 0.0, 0.0, 0.0, 0.0, 0.0, 0.0, 0.0, Year over Year, 0.0, 0.0, 0.0, 19.11, -95.19, 2055.56, 46.91, 14.74, -34.86, -23.94, -25.93, 16.67, 50.0, -53.81, 247.42, -31.75, 71.3, 6.09, 0.24, 3-Year Average, 0.0, 0.0, 0.0, 0.0, 0.0, 7.31, 15.08, 231.21, 3.16, -17.16, -28.41, -13.05, 9.04, -6.85, 34.02, 3.08, 59.55, 7.44, 22.13, 5-Year Average, 0.0, 0.0, 0.0, 0.0, 0.0, 0.0, 0.0, 15.81, 2.64, 78.26, -9.16, -13.25, -8.48, -14.56, 15.78, 13.9, 22.99, 14.76, 33.99, 10-Year Average, 0.0, 0.0, 0.0, 0.0, 0.0, 0.0, 0.0, 0.0, 0.0, 0.0, 0.0, 0.0, 2.95, -6.35, 43.66, 1.72, 3.29, 2.49, 7.0, -, 0.0, 0.0, 0.0, 0.0, 0.0, 0.0, 0.0, 0.0, 0.0, 0.0, 0.0, 0.0, 0.0, 0.0, 0.0, 0.0, 0.0, 0.0, 0.0, Key Ratios -> Cash Flow, 0.0, 0.0, 0.0, 0.0, 0.0, 0.0, 0.0, 0.0, 0.0, 0.0, 0.0, 0.0, 0.0, 0.0, 0.0, 0.0, 0.0, 0.0, 0.0, Cash Flow Ratios, 2001-10, 2006-10, 2007-10, 2008-10, 2009-10, 2010-10, 2011-10, 2012-10, 2013-10, 2014-10, 2015-10, 2016-10, 2017-10, 2018-10, 2019-10, 2020-10, 2021-10, 2022-10, 2023-10, Operating Cash Flow Growth % YOY, 0.0, 0.0, 0.0, -21.98, -46.03, 75.98, 75.49, -2.54, -6.19, -36.55, -29.96, 54.88, 12.11, 22.27, -6.07, -9.79, 61.24, -11.65, 35.06, Free Cash Flow Growth % YOY, 0.0, 0.0, 0.0, -26.13, -53.49, 113.21, 79.56, -3.54, -7.45, -45.04, -21.29, 57.97, 9.02, 27.63, -4.84, -7.39, 61.72, -21.28, 44.37, Cap Ex as a % of Sales, 0.0, 0.0, -2.84, -2.67, -2.86, -2.22, -2.84, -2.83, -5.01, -5.06, -2.43, -3.31, -3.94, -3.6, -3.0, -2.23, -2.98, -4.25, -4.36, Free Cash Flow/Sales %, 0.0, 0.0, 15.04, 10.43, 6.25, 10.97, 16.21, 15.08, 24.58, 12.99, 10.25, 15.56, 15.94, 18.52, 16.77, 15.02, 20.53, 14.91, 21.57, Free Cash Flow/Net Income, 0.0, 0.0, 0.0, 0.0, 0.0, 0.0, 0.0, 0.0, 0.0, 0.0, 0.0, 0.0, 0.0, 0.0, 0.0, 1.12, 1.07, 0.81, 1.19, -, 0.0, 0.0, 0.0, 0.0, 0.0, 0.0, 0.0, 0.0, 0.0, 0.0, 0.0, 0.0, 0.0, 0.0, 0.0, 0.0, 0.0, 0.0, 0.0, Key Ratios -> Financial Health, 0.0, 0.0, 0.0, 0.0, 0.0, 0.0, 0.0, 0.0, 0.0, 0.0, 0.0, 0.0, 0.0, 0.0, 0.0, 0.0, 0.0, 0.0, 0.0, Balance Sheet Items (in %), 2001-10, 2006-10, 2007-10, 2008-10, 2009-10, 2010-10, 2011-10, 2012-10, 2013-10, 2014-10, 2015-10, 2016-10, 2017-10, 2018-10, 2019-10, 2020-10, 2021-10, 2022-10, 2023-10, Cash & Short-Term Investments, 0.0, 0.0, 0.0, 20.05, 32.57, 27.32, 38.94, 22.31, 25.03, 20.51, 26.78, 29.45, 31.88, 26.34, 14.68, 15.03, 13.92, 10.03, 14.8, Accounts Receivable, 0.0, 0.0, 0.0, 10.99, 7.82, 8.96, 9.5, 8.76, 8.41, 5.79, 8.1, 8.1, 8.59, 9.35, 9.84, 10.78, 10.95, 13.34, 11.99, Inventory, 0.0, 0.0, 0.0, 9.22, 7.25, 7.38, 9.91, 9.62, 9.98, 5.31, 7.23, 6.84, 6.82, 7.34, 7.18, 7.48, 7.75, 9.86, 9.58, Other Current Assets, 0.0, 0.0, 0.0, 5.15, 4.4, 19.96, 3.14, 3.25, 3.21, 19.25, 7.17, 2.2, 2.19, 2.22, 2.04, 2.18, 2.87, 2.64, 2.52, Total Current Assets, 0.0, 0.0, 0.0, 45.41, 52.04, 63.62, 61.49, 43.94, 46.63, 50.86, 49.28, 46.59, 49.48, 45.25, 33.74, 35.47, 35.49, 35.87, 38.89, Net PP&E, 0.0, 0.0, 0.0, 11.76, 11.1, 10.11, 11.11, 11.05, 10.61, 5.83, 8.08, 8.2, 8.98, 9.61, 8.99, 8.78, 8.83, 10.44, 11.8, Intangibles, 0.0, 0.0, 0.0, 12.47, 10.8, 20.11, 22.04, 37.19, 36.76, 32.76, 37.29, 37.27, 34.79, 39.26, 48.51, 45.94, 46.19, 45.22, 41.11, Other Long-Term Assets, 0.0, 0.0, 0.0, 30.36, 26.06, 6.16, 5.37, 7.83, 6.0, 10.54, 5.35, 7.94, 6.75, 5.88, 8.76, 9.81, 9.49, 8.46, 8.19, Total Assets, 0.0, 0.0, 0.0, 100.0, 100.0, 100.0, 100.0, 100.0, 100.0, 100.0, 100.0, 100.0, 100.0, 100.0, 100.0, 100.0, 100.0, 100.0, 100.0, Accounts Payable, 0.0, 0.0, 0.0, 4.4, 4.03, 5.15, 5.21, 4.38, 4.04, 4.39, 3.73, 3.29, 3.62, 3.98, 3.75, 3.68, 4.17, 5.51, 3.88, Short-Term Debt, 0.0, 0.0, 0.0, 0.0, 0.0, 0.0, 0.0, 0.0, 0.0, 0.01, 0.0, 0.03, 0.05, 0.06, 0.09, 0.0, 0.0, 0.0, 0.0, Taxes Payable, 0.0, 0.0, 0.0, 1.83, 0.34, 0.0, -0.68, -1.09, -0.45, 1.39, 0.83, 0.63, 0.65, 0.83, 2.44, 0.65, 0.44, 0.48, 0.68, Accrued Liabilities, 0.0, 0.0, 0.0, 0.0, 0.0, 0.0, 0.0, 0.0, 0.0, 0.0, 0.0, 0.0, 0.0, 0.0, 0.0, 0.0, 0.0, 0.0, 0.0, Other Short-Term Liabilities, 0.0, 0.0, 0.0, 12.76, 10.38, 26.65, 15.76, 14.68, 11.4, 9.93, 8.49, 8.16, 10.67, 8.84, 15.73, 10.91, 11.35, 11.68, 10.33, Total Current Liabilities, 0.0, 0.0, 0.0, 18.98, 14.75, 31.8, 20.28, 17.97, 14.99, 15.71, 13.05, 12.11, 14.99, 13.71, 22.01, 15.24, 15.96, 17.67, 14.89, Long-Term Debt, 0.0, 0.0, 0.0, 21.61, 19.92, 22.59, 21.33, 20.05, 25.26, 25.5, 22.13, 24.51, 21.37, 21.06, 18.95, 23.72, 25.49, 25.95, 25.41, Other Long-Term Liabilities, 0.0, 0.0, 0.0, 21.61, 19.92, 22.59, 21.33, 20.05, 25.26, 25.5, 22.13, 24.51, 21.37, 21.06, 18.95, 23.72, 25.49, 25.95, 25.41, Total Liabilities, 0.0, 0.0, 0.0, 63.48, 67.08, 66.63, 52.35, 50.79, 50.51, 51.06, 44.24, 45.58, 42.62, 46.48, 49.77, 49.38, 49.66, 49.63, 45.69, Total Stockholders' Equity, 0.0, 0.0, 0.0, 36.52, 32.92, 33.37, 47.65, 49.21, 49.49, 48.94, 55.76, 54.42, 57.38, 53.52, 50.23, 50.62, 50.34, 50.37, 54.31, Total Liabilities & Equity, 100.0, 100.0, 100.0, 100.0, 100.0, 100.0, 100.0, 100.0, 100.0, 100.0, 100.0, 100.0, 100.0, 100.0, 100.0, 100.0, 100.0, 100.0, 100.0, -, 0.0, 0.0, 0.0, 0.0, 0.0, 0.0, 0.0, 0.0, 0.0, 0.0, 0.0, 0.0, 0.0, 0.0, 0.0, 0.0, 0.0, 0.0, 0.0, Liquidity/Financial Health, 2001-10, 2006-10, 2007-10, 2008-10, 2009-10, 2010-10, 2011-10, 2012-10, 2013-10, 2014-10, 2015-10, 2016-10, 2017-10, 2018-10, 2019-10, 2020-10, 2021-10, 2022-10, 2023-10, Current Ratio, 0.0, 0.0, 0.0, 2.39, 3.53, 2.0, 3.03, 2.45, 3.11, 3.24, 3.78, 3.85, 3.3, 3.3, 1.53, 2.33, 2.22, 2.03, 2.61, Quick Ratio, 0.0, 0.0, 0.0, 1.64, 2.74, 1.14, 2.39, 1.73, 2.23, 2.37, 2.67, 3.1, 2.7, 2.61, 1.11, 1.69, 1.56, 1.32, 1.8, Financial Leverage, 0.0, 0.0, 0.0, 2.74, 3.04, 3.0, 2.1, 2.03, 2.02, 2.04, 1.79, 1.84, 1.74, 1.87, 1.99, 1.98, 1.99, 1.99, 1.84, Debt/Equity, 0.0, 0.0, 0.0, 1.74, 2.04, 2.0, 1.1, 1.03, 1.02, 1.04, 0.79, 0.84, 0.74, 0.87, 0.99, 0.98, 0.99, 0.99, 0.84, -, 0.0, 0.0, 0.0, 0.0, 0.0, 0.0, 0.0, 0.0, 0.0, 0.0, 0.0, 0.0, 0.0, 0.0, 0.0, 0.0, 0.0, 0.0, 0.0, Key Ratios -> Efficiency Ratios, 0.0, 0.0, 0.0, 0.0, 0.0, 0.0, 0.0, 0.0, 0.0, 0.0, 0.0, 0.0, 0.0, 0.0, 0.0, 0.0, 0.0, 0.0, 0.0, Efficiency, 2001-10, 2006-10, 2007-10, 2008-10, 2009-10, 2010-10, 2011-10, 2012-10, 2013-10, 2014-10, 2015-10, 2016-10, 2017-10, 2018-10, 2019-10, 2020-10, 2021-10, 2022-10, 2023-10, Days Sales Outstanding, 0.0, 0.0, 0.0, 48.68, 48.47, 58.26, 47.45, 49.12, 84.27, 88.64, 54.78, 54.81, 59.09, 57.64, 65.75, 70.96, 67.7, 74.89, 68.96, Days Inventory, 0.0, 0.0, 0.0, 91.46, 92.04, 103.95, 106.21, 113.74, 119.83, 115.49, 98.88, 97.03, 101.73, 104.57, 105.1, 105.04, 104.04, 121.2, 111.73, Payables Period, 0.0, 0.0, 0.0, 21.8, 51.27, 58.51, 57.42, 52.33, 82.02, 64.65, 53.1, 48.79, 49.48, 52.69, 53.71, 51.64, 50.14, 59.9, 54.08, Cash Conversion Cycle, 0.0, 0.0, 0.0, 118.33, 89.23, 103.71, 96.24, 110.54, 122.08, 139.47, 100.56, 103.05, 111.35, 109.51, 117.14, 124.36, 121.6, 136.19, 126.62, Receivables Turnover, 0.0, 0.0, 0.0, 15.0, 6.57, 7.44, 7.65, 7.69, 4.27, 4.3, 5.08, 6.79, 6.6, 6.55, 6.05, 5.43, 5.72, 5.31, 5.07, Inventory Turnover, 0.0, 0.0, 0.0, 22.25, 10.13, 11.05, 10.71, 9.54, 8.72, 8.84, 6.81, 10.19, 10.1, 3.67, 3.58, 3.58, 3.76, 3.35, 3.26, Fixed Assets Turnover, 0.0, 0.0, 0.0, 14.01, 5.37, 5.97, 6.66, 6.32, 3.39, 3.62, 4.74, 6.76, 6.41, 6.22, 6.18, 6.3, 7.06, 6.7, 5.77, Asset Turnover, 0.0, 0.0, 0.0, 1.65, 0.61, 0.63, 0.71, 0.7, 0.37, 0.38, 0.44, 0.55, 0.55, 0.58, 0.57, 0.56, 0.62, 0.64, 0.64\n",
      "!!!!!!!!!!!!!!!!!!!!!!!!!!!!!!!!!!!!!!!!!!!!!!!!!!!!!!!!!!!!!!!!!!!!!!!!!!!!!!!!!!!!!!!!!!!!!!!!!!!!!!!!!!!!!!!!!!!!!!!!!!!!!!!!!!!!!!!!!!!!!!!!!!!!!!!!!!!!!!!!!!!!!!!!!!!!!!!!!!!!!!!!!!!!!!!!!!!!!!!!!!!!!!!!!!!!!!!!!!!!!!!!!!!!!!!!!!!!!!!!!!!!!!!!!!!!!!!!\n",
      "==========\n",
      "Prompt: 10971 tokens, 309.857 tokens-per-sec\n",
      "Generation: 256 tokens, 22.609 tokens-per-sec\n",
      "Peak memory: 4.105 GB\n"
     ]
    }
   ],
   "source": [
    "### Load model and generate response\n",
    "model, tokenizer = load('fused_model_4bit')\n",
    "response = generate(model, tokenizer, prompt= prompt, verbose=True)"
   ]
  },
  {
   "cell_type": "code",
   "execution_count": 8,
   "metadata": {},
   "outputs": [
    {
     "name": "stdout",
     "output_type": "stream",
     "text": [
      "==========\n",
      "Prompt: Analyze the company from investor prespective. Financial data Financial Ratios for Gold Apr 23, 2001-10, 2006-10, 2007-10, 2008-10, 2009-10, 2010-10, 2011-10, 2012-10, 2013-10, 2014-10, 2015-10, 2016-10, 2017-10, 2018-10, 2019-10, 2020-10, 2021-10, 2022-10, 2023-10, Revenue USD Mil, 0.0, 0.0, 5420.0, 5774.0, 4481.0, 5444.0, 6615.0, 6858.0, 3894.0, 4048.0, 4038.0, 4202.0, 4472.0, 4914.0, 5163.0, 5339.0, 6319.0, 6848.0, 6833.0, Gross Margin %, 0.0, 0.0, 54.78, 55.35, 51.15, 53.82, 53.35, 52.55, 48.97, 48.81, 50.54, 52.28, 53.64, 54.54, 54.33, 53.14, 53.92, 54.35, 50.71, Operating Income USD Mil, 0.0, 0.0, 584.0, 795.0, 47.0, 566.0, 1071.0, 1119.0, 386.0, 419.0, 522.0, 615.0, 807.0, 904.0, 941.0, 846.0, 1347.0, 1618.0, 1350.0, Operating Margin %, 0.0, 0.0, 10.77, 13.77, 1.05, 10.4, 16.19, 16.32, 9.91, 10.35, 12.93, 14.64, 18.05, 18.4, 18.23, 15.85, 21.32, 23.63, 19.76, Net Income USD Mil, 0.0, 0.0, 0.0, 0.0, 0.0, 0.0, 0.0, 0.0, 0.0, 0.0, 0.0, 0.0, 0.0, 0.0, 0.0, 719.0, 1210.0, 1254.0, 1240.0, Earnings Per Share USD, 0.0, 0.0, 1.57, 1.87, -0.09, 1.94, 2.85, 3.27, 2.13, 1.62, 1.2, 1.4, 2.1, 0.97, 3.37, 2.3, 3.94, 4.18, 4.19, Dividends USD, 0.0, 0.0, 0.0, 0.0, 0.0, 0.0, 0.0, 0.3, 0.46, 0.53, 0.4, 0.46, 0.53, 0.6, 0.66, 0.72, 0.78, 0.84, 0.9, Payout Ratio % *, 0.0, 0.0, 0.0, 0.0, 0.0, 0.0, 0.0, 9.0, 22.0, 33.0, 33.0, 33.0, 25.0, 62.0, 19.0, 31.0, 20.0, 20.0, 21.0, Shares Mil, 0.0, 0.0, 394.0, 363.0, 348.83, 347.6, 348.13, 347.93, 331.81, 335.32, 332.17, 321.75, 323.02, 318.53, 309.0, 306.0, 302.0, 295.26, 292.12, Book Value Per Share * USD, 0.0, 0.0, 8.21, 7.05, 7.18, 9.29, 12.37, 14.89, 15.93, 15.81, 12.54, 13.19, 14.96, 14.42, 15.37, 15.92, 17.84, 17.97, 20.01, Operating Cash Flow USD Mil, 0.0, 0.0, 969.0, 756.0, 408.0, 718.0, 1260.0, 1228.0, 1152.0, 731.0, 512.0, 793.0, 889.0, 1087.0, 1021.0, 921.0, 1485.0, 1312.0, 1772.0, Cap Spending USD Mil, 0.0, 0.0, -154.0, -154.0, -128.0, -121.0, -188.0, -194.0, -195.0, -205.0, -98.0, -139.0, -176.0, -177.0, -155.0, -119.0, -188.0, -291.0, -298.0, Free Cash Flow USD Mil, 0.0, 0.0, 815.0, 602.0, 280.0, 597.0, 1072.0, 1034.0, 957.0, 526.0, 414.0, 654.0, 713.0, 910.0, 866.0, 802.0, 1297.0, 1021.0, 1474.0, Free Cash Flow Per Share * USD, 0.0, 0.0, 2.07, 1.66, 0.8, 1.72, 3.08, 2.97, 2.88, 1.57, 1.25, 2.03, 2.21, 2.86, 2.8, 2.62, 4.29, 3.46, 5.05, Working Capital USD Mil, 0.0, 0.0, 0.0, 1852.0, 2838.0, 3086.0, 3732.0, 2736.0, 3381.0, 3817.0, 2710.0, 2690.0, 2906.0, 2705.0, 1109.0, 1948.0, 2091.0, 1917.0, 2583.0, -, 0.0, 0.0, 0.0, 0.0, 0.0, 0.0, 0.0, 0.0, 0.0, 0.0, 0.0, 0.0, 0.0, 0.0, 0.0, 0.0, 0.0, 0.0, 0.0, Key Ratios -> Profitability, 0.0, 0.0, 0.0, 0.0, 0.0, 0.0, 0.0, 0.0, 0.0, 0.0, 0.0, 0.0, 0.0, 0.0, 0.0, 0.0, 0.0, 0.0, 0.0, Margins % of Sales, 2001-10, 2006-10, 2007-10, 2008-10, 2009-10, 2010-10, 2011-10, 2012-10, 2013-10, 2014-10, 2015-10, 2016-10, 2017-10, 2018-10, 2019-10, 2020-10, 2021-10, 2022-10, 2023-10, Revenue, 0.0, 0.0, 100.0, 100.0, 100.0, 100.0, 100.0, 100.0, 100.0, 100.0, 100.0, 100.0, 100.0, 100.0, 100.0, 100.0, 100.0, 100.0, 100.0, COGS, 0.0, 0.0, 45.22, 44.65, 48.85, 46.18, 46.65, 47.45, 51.03, 51.19, 49.46, 47.72, 46.36, 45.46, 45.67, 46.86, 46.08, 45.65, 49.29, Gross Margin, 0.0, 0.0, 54.78, 55.35, 51.15, 53.82, 53.35, 52.55, 48.97, 48.81, 50.54, 52.28, 53.64, 54.54, 54.33, 53.14, 53.92, 54.35, 50.71, SG&A, 0.0, 0.0, 31.37, 29.39, 35.77, 32.18, 27.35, 26.49, 30.41, 29.62, 29.45, 29.82, 27.97, 28.27, 28.28, 28.02, 25.62, 23.9, 23.91, R&D, 0.0, 0.0, 12.64, 12.19, 14.33, 11.24, 9.81, 9.74, 8.65, 8.84, 8.17, 7.83, 7.63, 7.88, 7.82, 9.27, 6.98, 6.82, 7.04, Other, 0.0, 0.0, 12.64, 12.19, 14.33, 11.24, 9.81, 9.74, 8.65, 8.84, 8.16, 7.82, 7.62, 7.87, 7.82, 9.27, 6.98, 6.82, 7.04, Operating Margin, 0.0, 0.0, 10.77, 13.77, 1.05, 10.4, 16.19, 16.32, 9.91, 10.35, 12.93, 14.64, 18.05, 18.4, 18.23, 15.85, 21.32, 23.63, 19.76, EBT Margin, 0.0, 0.0, 0.59, 4.24, 2.81, 1.91, 1.6, -0.13, 6.21, 6.3, 2.67, 3.66, 4.43, 14.35, -1.51, 17.23, 22.8, 23.19, 20.99, Net Int Inc & Other, 0.0, 0.0, -10.18, -9.53, 1.76, -8.49, -14.59, -16.45, -3.7, -4.05, -10.26, -10.98, -13.62, -4.05, -19.74, 1.38, 1.48, -0.44, 1.23, -, 0.0, 0.0, 0.0, 0.0, 0.0, 0.0, 0.0, 0.0, 0.0, 0.0, 0.0, 0.0, 0.0, 0.0, 0.0, 0.0, 0.0, 0.0, 0.0, Profitability, 2001-10, 2006-10, 2007-10, 2008-10, 2009-10, 2010-10, 2011-10, 2012-10, 2013-10, 2014-10, 2015-10, 2016-10, 2017-10, 2018-10, 2019-10, 2020-10, 2021-10, 2022-10, 2023-10, Tax Rate %, 0.0, 0.0, 0.0, 49.8, 30.16, 7.69, 18.87, 1222.22, 55.79, 55.69, 38.89, 53.25, 60.1, 89.36, 194.87, 13.37, 10.41, 15.74, 6.9, Net Margin %, 0.0, 0.0, 0.0, 0.0, 0.0, 0.0, 0.0, 0.0, 0.0, 0.0, 0.0, 0.0, 0.0, 0.0, 0.0, 13.47, 19.15, 18.31, 18.15, Asset Turnover (Average), 0.0, 0.0, 0.0, 1.65, 0.61, 0.63, 0.71, 0.7, 0.37, 0.38, 0.44, 0.55, 0.55, 0.58, 0.57, 0.56, 0.62, 0.64, 0.64, Return on Assets %, 0.0, 0.0, 0.0, 0.0, 0.0, 0.0, 0.0, 0.0, 0.0, 0.0, 0.0, 0.0, 0.0, 0.0, 0.0, 7.54, 11.9, 11.81, 11.65, Financial Leverage (Average), 0.0, 0.0, 0.0, 2.74, 3.04, 3.0, 2.1, 2.03, 2.02, 2.04, 1.79, 1.84, 1.74, 1.87, 1.99, 1.98, 1.99, 1.99, 1.84, Return on Equity %, 0.0, 0.0, 0.0, 0.0, 0.0, 0.0, 0.0, 0.0, 0.0, 0.0, 0.0, 0.0, 0.0, 0.0, 0.0, 14.95, 23.58, 23.45, 22.24, Return on Invested Capital %, 0.0, 0.0, 0.0, 0.0, 0.0, 0.0, 0.0, 0.0, 0.0, 0.0, 0.0, 0.0, 0.0, 0.0, 0.0, 10.0, 15.84, 15.56, 14.92, Interest Coverage, 0.0, 0.0, 0.0, 6.46, 0.53, 5.9, 12.45, 11.08, 3.61, 3.71, 7.91, 8.54, 10.22, 12.05, 12.72, 10.85, 16.63, 19.26, 14.21, -, 0.0, 0.0, 0.0, 0.0, 0.0, 0.0, 0.0, 0.0, 0.0, 0.0, 0.0, 0.0, 0.0, 0.0, 0.0, 0.0, 0.0, 0.0, 0.0, Key Ratios -> Growth, 2001-10, 2006-10, 2007-10, 2008-10, 2009-10, 2010-10, 2011-10, 2012-10, 2013-10, 2014-10, 2015-10, 2016-10, 2017-10, 2018-10, 2019-10, 2020-10, 2021-10, 2022-10, 2023-10, Revenue %, 0.0, 0.0, 0.0, 0.0, 0.0, 0.0, 0.0, 0.0, 0.0, 0.0, 0.0, 0.0, 0.0, 0.0, 0.0, 0.0, 0.0, 0.0, 0.0, Year over Year, 0.0, 0.0, 0.0, 6.53, -22.39, 21.49, 21.51, 3.67, -43.22, 3.95, -0.25, 4.06, 6.43, 9.88, 5.07, 3.41, 18.36, 8.37, -0.22, 3-Year Average, 0.0, 0.0, 0.0, 0.0, 0.0, 0.15, 4.64, 15.24, -10.57, -15.1, -16.18, 2.57, 3.38, 6.76, 7.11, 6.08, 8.74, 9.87, 8.57, 5-Year Average, 0.0, 0.0, 0.0, 0.0, 0.0, 0.0, 0.0, 4.82, -7.58, -2.01, -5.8, -8.68, -8.2, 4.76, 4.99, 5.74, 8.5, 8.9, 6.82, 10-Year Average, 0.0, 0.0, 0.0, 0.0, 0.0, 0.0, 0.0, 0.0, 0.0, 0.0, 0.0, 0.0, -1.9, -1.6, 1.43, -0.19, -0.46, -0.01, 5.78, Operating Income %, 0.0, 0.0, 0.0, 0.0, 0.0, 0.0, 0.0, 0.0, 0.0, 0.0, 0.0, 0.0, 0.0, 0.0, 0.0, 0.0, 0.0, 0.0, 0.0, Year over Year, 0.0, 0.0, 0.0, 36.13, -94.09, 1104.26, 89.22, 4.48, -65.5, 8.55, 24.58, 17.82, 31.22, 12.02, 4.09, -10.1, 59.22, 20.12, -16.56, 3-Year Average, 0.0, 0.0, 0.0, 0.0, 0.0, -1.04, 10.44, 187.68, -11.98, -26.86, -22.44, 16.8, 24.42, 20.09, 15.23, 1.59, 14.22, 19.8, 16.86, 5-Year Average, 0.0, 0.0, 0.0, 0.0, 0.0, 0.0, 0.0, 13.89, -13.45, 54.89, -1.61, -10.5, -6.33, 18.55, 17.56, 10.14, 16.98, 14.93, 8.35, 10-Year Average, 0.0, 0.0, 0.0, 0.0, 0.0, 0.0, 0.0, 0.0, 0.0, 0.0, 0.0, 0.0, 3.29, 1.29, 34.94, 4.1, 2.32, 3.76, 13.34, Net Income %, 0.0, 0.0, 0.0, 0.0, 0.0, 0.0, 0.0, 0.0, 0.0, 0.0, 0.0, 0.0, 0.0, 0.0, 0.0, 0.0, 0.0, 0.0, 0.0, Year over Year, 0.0, 0.0, 0.0, 0.0, 0.0, 0.0, 0.0, 0.0, 0.0, 0.0, 0.0, 0.0, 0.0, 0.0, 0.0, 0.0, 68.29, 3.64, -1.12, 3-Year Average, 0.0, 0.0, 0.0, 0.0, 0.0, 0.0, 0.0, 0.0, 0.0, 0.0, 0.0, 0.0, 0.0, 0.0, 0.0, 0.0, 0.0, 0.0, 19.92, 5-Year Average, 0.0, 0.0, 0.0, 0.0, 0.0, 0.0, 0.0, 0.0, 0.0, 0.0, 0.0, 0.0, 0.0, 0.0, 0.0, 0.0, 0.0, 0.0, 0.0, 10-Year Average, 0.0, 0.0, 0.0, 0.0, 0.0, 0.0, 0.0, 0.0, 0.0, 0.0, 0.0, 0.0, 0.0, 0.0, 0.0, 0.0, 0.0, 0.0, 0.0, EPS %, 0.0, 0.0, 0.0, 0.0, 0.0, 0.0, 0.0, 0.0, 0.0, 0.0, 0.0, 0.0, 0.0, 0.0, 0.0, 0.0, 0.0, 0.0, 0.0, Year over Year, 0.0, 0.0, 0.0, 19.11, -95.19, 2055.56, 46.91, 14.74, -34.86, -23.94, -25.93, 16.67, 50.0, -53.81, 247.42, -31.75, 71.3, 6.09, 0.24, 3-Year Average, 0.0, 0.0, 0.0, 0.0, 0.0, 7.31, 15.08, 231.21, 3.16, -17.16, -28.41, -13.05, 9.04, -6.85, 34.02, 3.08, 59.55, 7.44, 22.13, 5-Year Average, 0.0, 0.0, 0.0, 0.0, 0.0, 0.0, 0.0, 15.81, 2.64, 78.26, -9.16, -13.25, -8.48, -14.56, 15.78, 13.9, 22.99, 14.76, 33.99, 10-Year Average, 0.0, 0.0, 0.0, 0.0, 0.0, 0.0, 0.0, 0.0, 0.0, 0.0, 0.0, 0.0, 2.95, -6.35, 43.66, 1.72, 3.29, 2.49, 7.0, -, 0.0, 0.0, 0.0, 0.0, 0.0, 0.0, 0.0, 0.0, 0.0, 0.0, 0.0, 0.0, 0.0, 0.0, 0.0, 0.0, 0.0, 0.0, 0.0, Key Ratios -> Cash Flow, 0.0, 0.0, 0.0, 0.0, 0.0, 0.0, 0.0, 0.0, 0.0, 0.0, 0.0, 0.0, 0.0, 0.0, 0.0, 0.0, 0.0, 0.0, 0.0, Cash Flow Ratios, 2001-10, 2006-10, 2007-10, 2008-10, 2009-10, 2010-10, 2011-10, 2012-10, 2013-10, 2014-10, 2015-10, 2016-10, 2017-10, 2018-10, 2019-10, 2020-10, 2021-10, 2022-10, 2023-10, Operating Cash Flow Growth % YOY, 0.0, 0.0, 0.0, -21.98, -46.03, 75.98, 75.49, -2.54, -6.19, -36.55, -29.96, 54.88, 12.11, 22.27, -6.07, -9.79, 61.24, -11.65, 35.06, Free Cash Flow Growth % YOY, 0.0, 0.0, 0.0, -26.13, -53.49, 113.21, 79.56, -3.54, -7.45, -45.04, -21.29, 57.97, 9.02, 27.63, -4.84, -7.39, 61.72, -21.28, 44.37, Cap Ex as a % of Sales, 0.0, 0.0, -2.84, -2.67, -2.86, -2.22, -2.84, -2.83, -5.01, -5.06, -2.43, -3.31, -3.94, -3.6, -3.0, -2.23, -2.98, -4.25, -4.36, Free Cash Flow/Sales %, 0.0, 0.0, 15.04, 10.43, 6.25, 10.97, 16.21, 15.08, 24.58, 12.99, 10.25, 15.56, 15.94, 18.52, 16.77, 15.02, 20.53, 14.91, 21.57, Free Cash Flow/Net Income, 0.0, 0.0, 0.0, 0.0, 0.0, 0.0, 0.0, 0.0, 0.0, 0.0, 0.0, 0.0, 0.0, 0.0, 0.0, 1.12, 1.07, 0.81, 1.19, -, 0.0, 0.0, 0.0, 0.0, 0.0, 0.0, 0.0, 0.0, 0.0, 0.0, 0.0, 0.0, 0.0, 0.0, 0.0, 0.0, 0.0, 0.0, 0.0, Key Ratios -> Financial Health, 0.0, 0.0, 0.0, 0.0, 0.0, 0.0, 0.0, 0.0, 0.0, 0.0, 0.0, 0.0, 0.0, 0.0, 0.0, 0.0, 0.0, 0.0, 0.0, Balance Sheet Items (in %), 2001-10, 2006-10, 2007-10, 2008-10, 2009-10, 2010-10, 2011-10, 2012-10, 2013-10, 2014-10, 2015-10, 2016-10, 2017-10, 2018-10, 2019-10, 2020-10, 2021-10, 2022-10, 2023-10, Cash & Short-Term Investments, 0.0, 0.0, 0.0, 20.05, 32.57, 27.32, 38.94, 22.31, 25.03, 20.51, 26.78, 29.45, 31.88, 26.34, 14.68, 15.03, 13.92, 10.03, 14.8, Accounts Receivable, 0.0, 0.0, 0.0, 10.99, 7.82, 8.96, 9.5, 8.76, 8.41, 5.79, 8.1, 8.1, 8.59, 9.35, 9.84, 10.78, 10.95, 13.34, 11.99, Inventory, 0.0, 0.0, 0.0, 9.22, 7.25, 7.38, 9.91, 9.62, 9.98, 5.31, 7.23, 6.84, 6.82, 7.34, 7.18, 7.48, 7.75, 9.86, 9.58, Other Current Assets, 0.0, 0.0, 0.0, 5.15, 4.4, 19.96, 3.14, 3.25, 3.21, 19.25, 7.17, 2.2, 2.19, 2.22, 2.04, 2.18, 2.87, 2.64, 2.52, Total Current Assets, 0.0, 0.0, 0.0, 45.41, 52.04, 63.62, 61.49, 43.94, 46.63, 50.86, 49.28, 46.59, 49.48, 45.25, 33.74, 35.47, 35.49, 35.87, 38.89, Net PP&E, 0.0, 0.0, 0.0, 11.76, 11.1, 10.11, 11.11, 11.05, 10.61, 5.83, 8.08, 8.2, 8.98, 9.61, 8.99, 8.78, 8.83, 10.44, 11.8, Intangibles, 0.0, 0.0, 0.0, 12.47, 10.8, 20.11, 22.04, 37.19, 36.76, 32.76, 37.29, 37.27, 34.79, 39.26, 48.51, 45.94, 46.19, 45.22, 41.11, Other Long-Term Assets, 0.0, 0.0, 0.0, 30.36, 26.06, 6.16, 5.37, 7.83, 6.0, 10.54, 5.35, 7.94, 6.75, 5.88, 8.76, 9.81, 9.49, 8.46, 8.19, Total Assets, 0.0, 0.0, 0.0, 100.0, 100.0, 100.0, 100.0, 100.0, 100.0, 100.0, 100.0, 100.0, 100.0, 100.0, 100.0, 100.0, 100.0, 100.0, 100.0, Accounts Payable, 0.0, 0.0, 0.0, 4.4, 4.03, 5.15, 5.21, 4.38, 4.04, 4.39, 3.73, 3.29, 3.62, 3.98, 3.75, 3.68, 4.17, 5.51, 3.88, Short-Term Debt, 0.0, 0.0, 0.0, 0.0, 0.0, 0.0, 0.0, 0.0, 0.0, 0.01, 0.0, 0.03, 0.05, 0.06, 0.09, 0.0, 0.0, 0.0, 0.0, Taxes Payable, 0.0, 0.0, 0.0, 1.83, 0.34, 0.0, -0.68, -1.09, -0.45, 1.39, 0.83, 0.63, 0.65, 0.83, 2.44, 0.65, 0.44, 0.48, 0.68, Accrued Liabilities, 0.0, 0.0, 0.0, 0.0, 0.0, 0.0, 0.0, 0.0, 0.0, 0.0, 0.0, 0.0, 0.0, 0.0, 0.0, 0.0, 0.0, 0.0, 0.0, Other Short-Term Liabilities, 0.0, 0.0, 0.0, 12.76, 10.38, 26.65, 15.76, 14.68, 11.4, 9.93, 8.49, 8.16, 10.67, 8.84, 15.73, 10.91, 11.35, 11.68, 10.33, Total Current Liabilities, 0.0, 0.0, 0.0, 18.98, 14.75, 31.8, 20.28, 17.97, 14.99, 15.71, 13.05, 12.11, 14.99, 13.71, 22.01, 15.24, 15.96, 17.67, 14.89, Long-Term Debt, 0.0, 0.0, 0.0, 21.61, 19.92, 22.59, 21.33, 20.05, 25.26, 25.5, 22.13, 24.51, 21.37, 21.06, 18.95, 23.72, 25.49, 25.95, 25.41, Other Long-Term Liabilities, 0.0, 0.0, 0.0, 21.61, 19.92, 22.59, 21.33, 20.05, 25.26, 25.5, 22.13, 24.51, 21.37, 21.06, 18.95, 23.72, 25.49, 25.95, 25.41, Total Liabilities, 0.0, 0.0, 0.0, 63.48, 67.08, 66.63, 52.35, 50.79, 50.51, 51.06, 44.24, 45.58, 42.62, 46.48, 49.77, 49.38, 49.66, 49.63, 45.69, Total Stockholders' Equity, 0.0, 0.0, 0.0, 36.52, 32.92, 33.37, 47.65, 49.21, 49.49, 48.94, 55.76, 54.42, 57.38, 53.52, 50.23, 50.62, 50.34, 50.37, 54.31, Total Liabilities & Equity, 100.0, 100.0, 100.0, 100.0, 100.0, 100.0, 100.0, 100.0, 100.0, 100.0, 100.0, 100.0, 100.0, 100.0, 100.0, 100.0, 100.0, 100.0, 100.0, -, 0.0, 0.0, 0.0, 0.0, 0.0, 0.0, 0.0, 0.0, 0.0, 0.0, 0.0, 0.0, 0.0, 0.0, 0.0, 0.0, 0.0, 0.0, 0.0, Liquidity/Financial Health, 2001-10, 2006-10, 2007-10, 2008-10, 2009-10, 2010-10, 2011-10, 2012-10, 2013-10, 2014-10, 2015-10, 2016-10, 2017-10, 2018-10, 2019-10, 2020-10, 2021-10, 2022-10, 2023-10, Current Ratio, 0.0, 0.0, 0.0, 2.39, 3.53, 2.0, 3.03, 2.45, 3.11, 3.24, 3.78, 3.85, 3.3, 3.3, 1.53, 2.33, 2.22, 2.03, 2.61, Quick Ratio, 0.0, 0.0, 0.0, 1.64, 2.74, 1.14, 2.39, 1.73, 2.23, 2.37, 2.67, 3.1, 2.7, 2.61, 1.11, 1.69, 1.56, 1.32, 1.8, Financial Leverage, 0.0, 0.0, 0.0, 2.74, 3.04, 3.0, 2.1, 2.03, 2.02, 2.04, 1.79, 1.84, 1.74, 1.87, 1.99, 1.98, 1.99, 1.99, 1.84, Debt/Equity, 0.0, 0.0, 0.0, 1.74, 2.04, 2.0, 1.1, 1.03, 1.02, 1.04, 0.79, 0.84, 0.74, 0.87, 0.99, 0.98, 0.99, 0.99, 0.84, -, 0.0, 0.0, 0.0, 0.0, 0.0, 0.0, 0.0, 0.0, 0.0, 0.0, 0.0, 0.0, 0.0, 0.0, 0.0, 0.0, 0.0, 0.0, 0.0, Key Ratios -> Efficiency Ratios, 0.0, 0.0, 0.0, 0.0, 0.0, 0.0, 0.0, 0.0, 0.0, 0.0, 0.0, 0.0, 0.0, 0.0, 0.0, 0.0, 0.0, 0.0, 0.0, Efficiency, 2001-10, 2006-10, 2007-10, 2008-10, 2009-10, 2010-10, 2011-10, 2012-10, 2013-10, 2014-10, 2015-10, 2016-10, 2017-10, 2018-10, 2019-10, 2020-10, 2021-10, 2022-10, 2023-10, Days Sales Outstanding, 0.0, 0.0, 0.0, 48.68, 48.47, 58.26, 47.45, 49.12, 84.27, 88.64, 54.78, 54.81, 59.09, 57.64, 65.75, 70.96, 67.7, 74.89, 68.96, Days Inventory, 0.0, 0.0, 0.0, 91.46, 92.04, 103.95, 106.21, 113.74, 119.83, 115.49, 98.88, 97.03, 101.73, 104.57, 105.1, 105.04, 104.04, 121.2, 111.73, Payables Period, 0.0, 0.0, 0.0, 21.8, 51.27, 58.51, 57.42, 52.33, 82.02, 64.65, 53.1, 48.79, 49.48, 52.69, 53.71, 51.64, 50.14, 59.9, 54.08, Cash Conversion Cycle, 0.0, 0.0, 0.0, 118.33, 89.23, 103.71, 96.24, 110.54, 122.08, 139.47, 100.56, 103.05, 111.35, 109.51, 117.14, 124.36, 121.6, 136.19, 126.62, Receivables Turnover, 0.0, 0.0, 0.0, 15.0, 6.57, 7.44, 7.65, 7.69, 4.27, 4.3, 5.08, 6.79, 6.6, 6.55, 6.05, 5.43, 5.72, 5.31, 5.07, Inventory Turnover, 0.0, 0.0, 0.0, 22.25, 10.13, 11.05, 10.71, 9.54, 8.72, 8.84, 6.81, 10.19, 10.1, 3.67, 3.58, 3.58, 3.76, 3.35, 3.26, Fixed Assets Turnover, 0.0, 0.0, 0.0, 14.01, 5.37, 5.97, 6.66, 6.32, 3.39, 3.62, 4.74, 6.76, 6.41, 6.22, 6.18, 6.3, 7.06, 6.7, 5.77, Asset Turnover, 0.0, 0.0, 0.0, 1.65, 0.61, 0.63, 0.71, 0.7, 0.37, 0.38, 0.44, 0.55, 0.55, 0.58, 0.57, 0.56, 0.62, 0.64, 0.64\n",
      "[Warning] Specifying sampling arguments to ``generate_step`` is deprecated. Pass in a ``sampler`` instead.\n",
      ", -, Return on Assets, 0.0, 0.0, 0.0, 0.0, 0.0, 0.0, 0.0, 0.0, 0.0, 0.0, 0.0, 0.0, 0.0, 0.0, 0.0, 0.0, 0.0, 0.0, 0.0, -, Return on Equity, 0.0, 0.0, 0.0, 0.0, 0.0, 0.0, 0.0, 0.0, 0.0, 0.0, 0.0, 0.0, 0.0, 0.0, 0.0, 0.0, 0.0, 0.0, 0.0, -, Efficiency, 2001-10, 2006-10, 2007-10, 2008-10, 2009-10, 2010-10, 2011-10, 2012-10, 2013-10, 2014-10, 2015-10, 2016-10, 2017-10, 2018-10, 2019-10, 2020-10, 2021-10, 2022-10, 2023-10, Asset Utilization, 0.0, 0.0, 0.0, 0.0, 0.0, 0.0, 0.0, 0.0, 0.0, 0.0, 0.0, 0.0, 0.0, 0.0, 0.0, 0.0, 0.0, 0.0, 0.0, -, Inventory Turnover Ratio, 0.0, 0.0, 0.0, 0.0, 0.0, 0.0, 0.0, 0.0, 0.0, 0.0, 0.0, 0.0, 0.0, 0.0, 0.0, 0.0, 0.0, 0.0, 0.0, -, Accounts Payable Turnover, 0.0, 0.0, 0.0, 0.0, 0.0, 0.0, 0.0, 0.0, 0.0, 0.0, 0.0, 0.0, 0.0, 0.0, 0.0, 0.0, 0.0, 0.0, 0.0, -, Days Sales Outstanding, 0.0, 0.0, 0.0, 0.0, 0.0, 0.0, 0.0, 0.0, 0.0, 0.0, 0.0, 0.0, 0.0, 0.0, 0.0, 0.0, 0.0, 0.0, 0.0, -, Payables Period, 0.0, 0.0, 0.0, 0.0, 0.0, 0.0, 0.0, 0.0, 0.0, 0.0, 0.0, 0.0, 0.0, 0.0, 0.0, 0.0, 0.0, 0.0, 0.0, -, Cash Conversion Cycle, 0.0, 0.0, 0.0, 0.0, 0.0, 0.0, 0.0, 0.0, 0.0, 0.0, 0.0, 0.0, 0.0, 0.0, 0.0, 0.0, 0.0, 0.0, 0.0, -, Receivables Turnover, 0.0, 0.0, 0.0, 0.0, 0.0, 0.0, 0.0, 0.0, 0.0, 0.0, 0.0, 0.0, 0.0, 0.0, 0.0, 0.0, 0.0, 0.0, 0.0, -, Inventory\n",
      "==========\n",
      "Prompt: 10971 tokens, 326.752 tokens-per-sec\n",
      "Generation: 1024 tokens, 25.634 tokens-per-sec\n",
      "Peak memory: 4.105 GB\n"
     ]
    }
   ],
   "source": [
    "### Load model and generate response\n",
    "model, tokenizer = load(model_name1)\n",
    "response = generate(model, tokenizer, prompt=prompt, max_tokens=1024, temp=0.5, verbose=True)"
   ]
  },
  {
   "cell_type": "code",
   "execution_count": null,
   "metadata": {},
   "outputs": [],
   "source": []
  }
 ],
 "metadata": {
  "kernelspec": {
   "display_name": "Python 3",
   "language": "python",
   "name": "python3"
  },
  "language_info": {
   "codemirror_mode": {
    "name": "ipython",
    "version": 3
   },
   "file_extension": ".py",
   "mimetype": "text/x-python",
   "name": "python",
   "nbconvert_exporter": "python",
   "pygments_lexer": "ipython3",
   "version": "3.10.0"
  }
 },
 "nbformat": 4,
 "nbformat_minor": 2
}
